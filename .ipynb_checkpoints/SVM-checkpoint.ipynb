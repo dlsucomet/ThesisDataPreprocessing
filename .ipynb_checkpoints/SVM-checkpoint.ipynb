{
 "cells": [
  {
   "cell_type": "code",
   "execution_count": null,
   "metadata": {
    "collapsed": true
   },
   "outputs": [],
   "source": [
    "import pandas as pd\n",
    "import numpy as np\n",
    "import random\n",
    "import csv\n",
    "from sklearn.svm import SVC, LinearSVC\n",
    "from sklearn.model_selection import train_test_split, GridSearchCV, RepeatedKFold\n",
    "from sklearn.metrics import classification_report, confusion_matrix, accuracy_score\n",
    "\n",
    "fileLocation = \"noleft.csv\"\n",
    "df = pd.read_csv(fileLocation)\n",
    "\n",
    "data = df.drop('Class', axis=1)  \n",
    "classes = df['Class']\n",
    "\n",
    "X_train, X_test, y_train, y_test = train_test_split(data, classes, test_size = 0.20, random_state=0)\n",
    "\n",
    "# kf = RepeatedKFold(n_splits=2, n_repeats=10, random_state=0)\n",
    "# for train, test in kf.split(data):\n",
    "#     X_train, X_test, y_train, y_test = data[train], data[test], classes[train], classes[test]\n",
    "\n",
    "\n",
    "clf = SVC(kernel='linear')\n",
    "clf.fit(X_train, y_train)  \n",
    "\n",
    "y_pred = clf.predict(X_test)  \n",
    "\n",
    "print(confusion_matrix(y_test,y_pred))  \n",
    "print(classification_report(y_test,y_pred))  \n",
    "print(accuracy_score(y_test, y_pred))"
   ]
  },
  {
   "cell_type": "code",
   "execution_count": null,
   "metadata": {
    "collapsed": true
   },
   "outputs": [],
   "source": [
    "import pandas as pd\n",
    "import numpy as np\n",
    "import random\n",
    "import csv\n",
    "from sklearn.svm import SVC, LinearSVC\n",
    "from sklearn.model_selection import train_test_split, GridSearchCV\n",
    "from sklearn.metrics import classification_report, confusion_matrix, accuracy_score\n",
    "\n",
    "\n",
    "fileLocation = \"ConsolidatedData-Normalized-2arms(Trimmed).csv\"\n",
    "df = pd.read_csv(fileLocation)\n",
    "\n",
    "data = df.drop('Class', axis=1)  \n",
    "classes = df['Class']\n",
    "\n",
    "X_train, X_test, y_train, y_test = train_test_split(data, classes, test_size = 0.20, random_state=0)  \n",
    "\n",
    "Cs = [0.001, 0.01, 0.1, 1, 10]\n",
    "gammas = [\"auto\", 0.001, 0.01, 0.1, 1]\n",
    "degrees = [1, 2, 3]\n",
    "\n",
    "param_grid = {'C': Cs, 'gamma' : gammas, 'degree' : degrees}\n",
    "\n",
    "\n",
    "svclassifier = SVC(kernel='linear')  \n",
    "\n",
    "clf = GridSearchCV(svclassifier, param_grid)\n",
    "clf.fit(X_train, y_train)  \n",
    "# svclassifier.fit(X_train, y_train)\n",
    "\n",
    "# y_pred = svclassifier.predict(X_test)  \n",
    "\n",
    "# print(confusion_matrix(y_test,y_pred))  \n",
    "# print(classification_report(y_test,y_pred))  \n",
    "# print(accuracy_score(y_test, y_pred))\n",
    "\n",
    "print(clf.best_params_)\n",
    "y_pred = clf.predict(X_test)\n",
    "print(confusion_matrix(y_test,y_pred))  \n",
    "print(classification_report(y_test,y_pred))  \n",
    "print(accuracy_score(y_test, y_pred))"
   ]
  },
  {
   "cell_type": "code",
   "execution_count": null,
   "metadata": {
    "collapsed": true
   },
   "outputs": [],
   "source": [
    "\n",
    "# # Feature Extraction with PCA\n",
    "# import numpy\n",
    "# from pandas import read_csv\n",
    "# from sklearn.decomposition import PCA\n",
    "# # load data\n",
    "# names = ['preg', 'plas', 'pres', 'skin', 'test', 'mass', 'pedi', 'age', 'class']\n",
    "# dataframe = read_csv(url, names=names)\n",
    "# array = dataframe.values\n",
    "# X = array[:,0:8]\n",
    "# Y = array[:,8]\n",
    "# # feature extraction\n",
    "# pca = PCA(n_components=3)\n",
    "# fit = pca.fit(X)\n",
    "# # summarize components\n",
    "# print(\"Explained Variance: \", fit.explained_variance_ratio_) \n",
    "# print(fit.components_)"
   ]
  },
  {
   "cell_type": "code",
   "execution_count": null,
   "metadata": {
    "collapsed": true
   },
   "outputs": [],
   "source": [
    "y_pred = clf.predict(X_test)\n",
    "print(confusion_matrix(y_test,y_pred))  \n",
    "print(classification_report(y_test,y_pred))  \n",
    "print(accuracy_score(y_test, y_pred))"
   ]
  }
 ],
 "metadata": {
  "kernelspec": {
   "display_name": "Python 3",
   "language": "python",
   "name": "python3"
  },
  "language_info": {
   "codemirror_mode": {
    "name": "ipython",
    "version": 3
   },
   "file_extension": ".py",
   "mimetype": "text/x-python",
   "name": "python",
   "nbconvert_exporter": "python",
   "pygments_lexer": "ipython3",
   "version": "3.6.3"
  }
 },
 "nbformat": 4,
 "nbformat_minor": 2
}
