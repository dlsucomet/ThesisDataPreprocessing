{
 "cells": [
  {
   "cell_type": "code",
   "execution_count": 1,
   "metadata": {
    "collapsed": true
   },
   "outputs": [],
   "source": [
    "import pandas as pd\n",
    "import numpy as np\n",
    "import scipy\n",
    "import random\n",
    "import csv\n",
    "from sklearn.svm import SVC, LinearSVC\n",
    "from sklearn.model_selection import train_test_split, GridSearchCV,RandomizedSearchCV\n",
    "from sklearn.metrics import classification_report, confusion_matrix, accuracy_score\n",
    "from sklearn.model_selection import cross_val_score\n",
    "from sklearn import preprocessing\n",
    "\n",
    "\n",
    "fileLocation = \"Model-nofilter-nonorm.csv\"\n",
    "df = pd.read_csv(fileLocation)\n",
    "\n",
    "data = df.drop('Class', axis=1)  \n",
    "classes = df['Class']\n",
    "\n",
    "# X_train = []\n",
    "# X_test = []\n",
    "# X_validation = []\n",
    "# y_train = []\n",
    "# y_test = []\n",
    "# y_validation = []\n",
    "# for index in range(0, len(data)):\n",
    "#     if index % 5 == 0:\n",
    "#         X_test.append(data.loc[index].values)\n",
    "#         y_test.append(classes.loc[index])\n",
    "#     elif index % 5 == 1:\n",
    "#         X_validation.append(data.loc[index].values)\n",
    "#         y_validation.append(classes.loc[index])\n",
    "#     else:\n",
    "#         X_train.append(data.loc[index].values)\n",
    "#         y_train.append(classes.loc[index])\n",
    "        \n",
    "# X_test = pd.DataFrame(X_test, columns = data.columns.values)\n",
    "# y_test = pd.DataFrame(y_test, columns = ['Class'])\n",
    "# X_train = pd.DataFrame(X_train, columns = data.columns.values)\n",
    "# y_train = pd.DataFrame(y_train, columns = ['Class']) \n",
    "# X_validation = pd.DataFrame(X_validation, columns = data.columns.values)\n",
    "# y_validation = pd.DataFrame(y_validation, columns = ['Class']) \n",
    "\n",
    "X_train, X_test, y_train, y_test = train_test_split(data, classes, test_size=0.2, random_state=1)\n",
    "    \n",
    "#X_train, X_validation, y_train, y_validation = train_test_split(X_train, y_train, test_size=0.2, random_state=1)\n",
    "\n"
   ]
  },
  {
   "cell_type": "code",
   "execution_count": 2,
   "metadata": {
    "collapsed": true
   },
   "outputs": [],
   "source": [
    "scaler = preprocessing.StandardScaler().fit(X_train)\n",
    "X_train_transformed = scaler.transform(X_train)"
   ]
  },
  {
   "cell_type": "code",
   "execution_count": 3,
   "metadata": {},
   "outputs": [
    {
     "ename": "NameError",
     "evalue": "name 'param_grid' is not defined",
     "output_type": "error",
     "traceback": [
      "\u001b[1;31m---------------------------------------------------------------------------\u001b[0m",
      "\u001b[1;31mNameError\u001b[0m                                 Traceback (most recent call last)",
      "\u001b[1;32m<ipython-input-3-b36cbb310930>\u001b[0m in \u001b[0;36m<module>\u001b[1;34m()\u001b[0m\n\u001b[0;32m      1\u001b[0m \u001b[0msvclassifier\u001b[0m \u001b[1;33m=\u001b[0m \u001b[0mSVC\u001b[0m\u001b[1;33m(\u001b[0m\u001b[0mkernel\u001b[0m\u001b[1;33m=\u001b[0m\u001b[1;34m'rbf'\u001b[0m\u001b[1;33m)\u001b[0m\u001b[1;33m\u001b[0m\u001b[0m\n\u001b[0;32m      2\u001b[0m \u001b[1;33m\u001b[0m\u001b[0m\n\u001b[1;32m----> 3\u001b[1;33m \u001b[0mclf\u001b[0m \u001b[1;33m=\u001b[0m \u001b[0mRandomizedSearchCV\u001b[0m\u001b[1;33m(\u001b[0m\u001b[0msvclassifier\u001b[0m\u001b[1;33m,\u001b[0m \u001b[0mparam_grid\u001b[0m\u001b[1;33m)\u001b[0m\u001b[1;33m\u001b[0m\u001b[0m\n\u001b[0m\u001b[0;32m      4\u001b[0m \u001b[1;33m\u001b[0m\u001b[0m\n\u001b[0;32m      5\u001b[0m \u001b[0mscores\u001b[0m \u001b[1;33m=\u001b[0m \u001b[0mcross_val_score\u001b[0m\u001b[1;33m(\u001b[0m\u001b[0mclf\u001b[0m\u001b[1;33m,\u001b[0m \u001b[0mX_train_transformed\u001b[0m\u001b[1;33m,\u001b[0m \u001b[0my_train\u001b[0m\u001b[1;33m,\u001b[0m \u001b[0mcv\u001b[0m\u001b[1;33m=\u001b[0m\u001b[1;36m5\u001b[0m\u001b[1;33m)\u001b[0m\u001b[1;33m\u001b[0m\u001b[0m\n",
      "\u001b[1;31mNameError\u001b[0m: name 'param_grid' is not defined"
     ]
    }
   ],
   "source": [
    "Cs = [0.001, 0.01, 0.1, 1, 10]\n",
    "gammas = [\"auto\", 0.001, 0.01, 0.1, 1]\n",
    "degrees = [1, 2, 3, 4, 5]\n",
    "\n",
    "param_grid = {'C': Cs, 'gamma' : gammas, 'degree' : degrees}\n",
    "\n",
    "svclassifier = SVC(kernel='rbf')  \n",
    "\n",
    "clf = RandomizedSearchCV(svclassifier, param_grid)\n",
    "\n",
    "scores = cross_val_score(clf, X_train_transformed, y_train, cv=5)"
   ]
  },
  {
   "cell_type": "code",
   "execution_count": null,
   "metadata": {
    "collapsed": true
   },
   "outputs": [],
   "source": [
    "clf = SVC(kernel='rbf', C=10, gamma = 'auto', degree = 3).fit(X_train_transformed, y_train)"
   ]
  },
  {
   "cell_type": "code",
   "execution_count": null,
   "metadata": {
    "collapsed": true
   },
   "outputs": [],
   "source": [
    "X_test_transformed = scaler.transform(X_test)"
   ]
  },
  {
   "cell_type": "code",
   "execution_count": null,
   "metadata": {},
   "outputs": [],
   "source": [
    "cross_val_score(clf, iris.data, iris.target, cv=5)\n",
    "clf.score(X_test_transformed, y_test)"
   ]
  },
  {
   "cell_type": "code",
   "execution_count": null,
   "metadata": {
    "collapsed": true
   },
   "outputs": [],
   "source": [
    "X_validation_transformed = scaler.transform(X_validation)"
   ]
  },
  {
   "cell_type": "code",
   "execution_count": null,
   "metadata": {
    "collapsed": true,
    "scrolled": true
   },
   "outputs": [],
   "source": [
    "Cs = [0.001, 0.01, 0.1, 1, 10]\n",
    "gammas = [\"auto\", 0.001, 0.01, 0.1, 1]\n",
    "degrees = [1, 2, 3, 4, 5]\n",
    "\n",
    "param_grid = {'C': Cs, 'gamma' : gammas, 'degree' : degrees}\n",
    "\n",
    "\n",
    "svclassifier = SVC(kernel='rbf')  \n",
    "\n",
    "clf = RandomizedSearchCV(svclassifier, param_grid)\n",
    "clf.fit(X_train, y_train)  \n",
    "\n",
    "print(clf.best_params_)\n",
    "y_pred = clf.predict(X_validation)\n",
    "print(confusion_matrix(y_validation,y_pred))  \n",
    "print(classification_report(y_validation,y_pred))  \n",
    "print(accuracy_score(y_validation, y_pred))\n"
   ]
  },
  {
   "cell_type": "code",
   "execution_count": null,
   "metadata": {
    "collapsed": true
   },
   "outputs": [],
   "source": [
    "Cs = [0.001, 0.01, 0.1, 1, 10]\n",
    "gammas = [\"auto\"]\n",
    "degrees = [1, 2, 3]\n",
    "\n",
    "param_grid = {'C': Cs, 'gamma' : gammas, 'degree' : degrees}\n",
    "\n",
    "\n",
    "svclassifier = SVC(kernel='rbf', C=10, gamma = 'auto', degree = 3)  \n",
    "\n",
    "# tclf = RandomizedSearchCV(svclassifier, clf.best_params_)\n",
    "  \n",
    "\n",
    "# print(tclf.best_params_)\n",
    "y_pred = clf.predict(X_test)\n",
    "print(confusion_matrix(y_test,y_pred))  \n",
    "print(classification_report(y_test,y_pred))  \n",
    "print(accuracy_score(y_test, y_pred))\n",
    "\n"
   ]
  },
  {
   "cell_type": "code",
   "execution_count": null,
   "metadata": {
    "collapsed": true
   },
   "outputs": [],
   "source": [
    "cf = confusion_matrix(y_test,y_pred)\n",
    "\n",
    "df = pd.DataFrame(cf)\n",
    "df.to_csv('crossval.csv', encoding='utf-8', index=False)"
   ]
  },
  {
   "cell_type": "code",
   "execution_count": null,
   "metadata": {
    "collapsed": true
   },
   "outputs": [],
   "source": [
    "cf"
   ]
  },
  {
   "cell_type": "code",
   "execution_count": null,
   "metadata": {
    "collapsed": true
   },
   "outputs": [],
   "source": []
  }
 ],
 "metadata": {
  "kernelspec": {
   "display_name": "Python 3",
   "language": "python",
   "name": "python3"
  },
  "language_info": {
   "codemirror_mode": {
    "name": "ipython",
    "version": 3
   },
   "file_extension": ".py",
   "mimetype": "text/x-python",
   "name": "python",
   "nbconvert_exporter": "python",
   "pygments_lexer": "ipython3",
   "version": "3.6.3"
  }
 },
 "nbformat": 4,
 "nbformat_minor": 2
}
