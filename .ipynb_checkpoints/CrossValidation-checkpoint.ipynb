{
 "cells": [
  {
   "cell_type": "code",
   "execution_count": 130,
   "metadata": {
    "collapsed": true
   },
   "outputs": [],
   "source": [
    "import pandas as pd\n",
    "import numpy as np\n",
    "import scipy\n",
    "import random\n",
    "import csv\n",
    "from sklearn.svm import SVC, LinearSVC\n",
    "from sklearn.model_selection import train_test_split, GridSearchCV,RandomizedSearchCV\n",
    "from sklearn.metrics import classification_report, confusion_matrix, accuracy_score\n",
    "\n",
    "\n",
    "fileLocation = \"Model-nofilter-nonorm.csv\"\n",
    "df = pd.read_csv(fileLocation)\n",
    "\n",
    "data = df.drop('Class', axis=1)  \n",
    "classes = df['Class']\n",
    "\n",
    "X_train = []\n",
    "X_test = []\n",
    "X_validation = []\n",
    "y_train = []\n",
    "y_test = []\n",
    "y_validation = []\n",
    "for index in range(0, len(data)):\n",
    "    if index % 5 == 0:\n",
    "        X_test.append(data.loc[index].values)\n",
    "        y_test.append(classes.loc[index])\n",
    "    elif index % 5 == 1:\n",
    "        X_validation.append(data.loc[index].values)\n",
    "        y_validation.append(classes.loc[index])\n",
    "    else:\n",
    "        X_train.append(data.loc[index].values)\n",
    "        y_train.append(classes.loc[index])\n",
    "        \n",
    "X_test = pd.DataFrame(X_test, columns = data.columns.values)\n",
    "y_test = pd.DataFrame(y_test, columns = ['Class'])\n",
    "X_train = pd.DataFrame(X_train, columns = data.columns.values)\n",
    "y_train = pd.DataFrame(y_train, columns = ['Class']) \n",
    "X_validation = pd.DataFrame(X_validation, columns = data.columns.values)\n",
    "y_validation = pd.DataFrame(y_validation, columns = ['Class']) \n",
    "\n",
    "#X_train, X_test, y_train, y_test = train_test_split(data, classes, test_size=0.2, random_state=1)\n",
    "    \n",
    "#X_train, X_validation, y_train, y_validation = train_test_split(X_train, y_train, test_size=0.2, random_state=1)"
   ]
  },
  {
   "cell_type": "code",
   "execution_count": 127,
   "metadata": {
    "collapsed": true
   },
   "outputs": [],
   "source": [
    "featureList = df.columns\n",
    "\n",
    "meanList = []\n",
    "stdevList = []\n",
    "\n",
    "#normalize train set\n",
    "\n",
    "\n",
    "for f in featureList:\n",
    "    if f != 'Class':\n",
    "        mean = np.mean(X_train[f])\n",
    "        stdev = np.std(X_train[f])\n",
    "\n",
    "        meanList.append(mean)\n",
    "        stdevList.append(stdev)\n",
    "X_train = X_train.apply(lambda x: (x - np.mean(x)) / (np.std(x)))\n",
    "\n",
    "#print(X_train)"
   ]
  },
  {
   "cell_type": "code",
   "execution_count": null,
   "metadata": {
    "collapsed": true
   },
   "outputs": [],
   "source": [
    "for i in range(0, len(meanList)):\n",
    "    if featureList[i] != 'Class':\n",
    "        X_test[featureList[i]] = (X_test[featureList[i]]- meanList[i]) / stdevList[i]\n",
    "#print(X_test)\n"
   ]
  },
  {
   "cell_type": "code",
   "execution_count": null,
   "metadata": {
    "collapsed": true
   },
   "outputs": [],
   "source": [
    "for i in range(0, len(meanList)):\n",
    "    if featureList[i] != 'Class':\n",
    "        X_validation[featureList[i]] = (X_validation[featureList[i]]- meanList[i]) / stdevList[i]\n",
    "#print(X_validation)"
   ]
  },
  {
   "cell_type": "code",
   "execution_count": null,
   "metadata": {
    "collapsed": true
   },
   "outputs": [],
   "source": [
    "Cs = [10]\n",
    "gammas = [0.1]\n",
    "degrees = [1]\n",
    "\n",
    "param_grid = {'C': Cs, 'gamma' : gammas, 'degree' : degrees}\n",
    "\n",
    "\n",
    "svclassifier = SVC(kernel='rbf')  \n",
    "\n",
    "clf = GridSearchCV(svclassifier, param_grid)\n",
    "clf.fit(X_train, y_train)  \n",
    "\n",
    "print(clf.best_params_)\n",
    "y_pred = clf.predict(X_validation)\n",
    "print(confusion_matrix(y_validation,y_pred))  \n",
    "print(classification_report(y_validation,y_pred))  \n",
    "print(accuracy_score(y_validation, y_pred))\n"
   ]
  },
  {
   "cell_type": "code",
   "execution_count": 131,
   "metadata": {},
   "outputs": [
    {
     "name": "stderr",
     "output_type": "stream",
     "text": [
      "C:\\Users\\user\\AppData\\Roaming\\Python\\Python36\\site-packages\\sklearn\\utils\\validation.py:578: DataConversionWarning: A column-vector y was passed when a 1d array was expected. Please change the shape of y to (n_samples, ), for example using ravel().\n",
      "  y = column_or_1d(y, warn=True)\n",
      "C:\\Users\\user\\AppData\\Roaming\\Python\\Python36\\site-packages\\sklearn\\utils\\validation.py:578: DataConversionWarning: A column-vector y was passed when a 1d array was expected. Please change the shape of y to (n_samples, ), for example using ravel().\n",
      "  y = column_or_1d(y, warn=True)\n",
      "C:\\Users\\user\\AppData\\Roaming\\Python\\Python36\\site-packages\\sklearn\\utils\\validation.py:578: DataConversionWarning: A column-vector y was passed when a 1d array was expected. Please change the shape of y to (n_samples, ), for example using ravel().\n",
      "  y = column_or_1d(y, warn=True)\n",
      "C:\\Users\\user\\AppData\\Roaming\\Python\\Python36\\site-packages\\sklearn\\utils\\validation.py:578: DataConversionWarning: A column-vector y was passed when a 1d array was expected. Please change the shape of y to (n_samples, ), for example using ravel().\n",
      "  y = column_or_1d(y, warn=True)\n"
     ]
    },
    {
     "name": "stdout",
     "output_type": "stream",
     "text": [
      "{'C': 10, 'degree': 1, 'gamma': 0.1}\n",
      "[[ 0  0  0 ...,  0  0 20]\n",
      " [ 0  0  0 ...,  0  0 20]\n",
      " [ 0  0  0 ...,  0  0 20]\n",
      " ..., \n",
      " [ 0  0  0 ...,  0  0 20]\n",
      " [ 0  0  0 ...,  0  0 20]\n",
      " [ 0  0  0 ...,  0  0 20]]\n",
      "                 precision    recall  f1-score   support\n",
      "\n",
      "            ano       0.00      0.00      0.00        20\n",
      "           asul       0.00      0.00      0.00        20\n",
      "            ate       0.00      0.00      0.00        20\n",
      "          baboy       0.00      0.00      0.00        20\n",
      "      binebenta       0.00      0.00      0.00        20\n",
      "         dalawa       0.00      0.00      0.00        20\n",
      "           dito       0.00      0.00      0.00        20\n",
      "          extra       0.00      0.00      0.00        20\n",
      "          gulay       0.00      0.00      0.00        20\n",
      "          gusto       0.00      0.00      0.00        20\n",
      "          hello       0.00      0.00      0.00        20\n",
      "            isa       0.00      0.00      0.00        20\n",
      "           isda       0.00      0.00      0.00        20\n",
      "           itim       0.00      0.00      0.00        20\n",
      "          itlog       0.00      0.00      0.00        20\n",
      "            ito       0.00      0.00      0.00        20\n",
      "          juice       0.00      0.00      0.00        20\n",
      "          kanin       0.00      0.00      0.00        20\n",
      "           kape       0.00      0.00      0.00        20\n",
      "           kayo       0.00      0.00      0.00        20\n",
      "           kilo       0.00      0.00      0.00        20\n",
      "             ko       0.00      0.00      0.00        20\n",
      "          kulay       0.00      0.00      0.00        20\n",
      "           kuya       0.00      0.00      0.00        20\n",
      "  large (shirt)       0.00      0.00      0.00        20\n",
      "        magkano       0.00      0.00      0.00        20\n",
      "          mahal       0.00      0.00      0.00        20\n",
      "         malaki       0.00      0.00      0.00        20\n",
      "         maliit       0.00      0.00      0.00        20\n",
      "          manok       0.00      0.00      0.00        20\n",
      "        mantika       0.00      0.00      0.00        20\n",
      "        mayroon       0.00      0.00      0.00        20\n",
      " medium (shirt)       0.00      0.00      0.00        20\n",
      "     nagbubukas       0.00      0.00      0.00        20\n",
      "      nagsasara       0.00      0.00      0.00        20\n",
      "           nito       0.00      0.00      0.00        20\n",
      "           niyo       0.00      0.00      0.00        20\n",
      "           oras       0.00      0.00      0.00        20\n",
      "         pabili       1.00      0.05      0.10        20\n",
      "        pagkain       0.00      0.00      0.00        20\n",
      "      poloshirt       0.00      0.00      0.00        20\n",
      "           pula       0.00      0.00      0.00        20\n",
      "         puwede       0.00      0.00      0.00        20\n",
      "         saging       0.00      0.00      0.00        20\n",
      "        salamat       0.00      0.00      0.00        20\n",
      "sari-sari store       0.00      0.00      0.00        20\n",
      "         shorts       0.00      0.00      0.00        20\n",
      "           size       0.00      0.00      0.00        20\n",
      "  small (shirt)       0.00      0.00      0.00        20\n",
      "     softdrinks       0.00      0.00      0.00        20\n",
      "          sorry       0.00      0.00      0.00        20\n",
      "      spaghetti       0.00      0.00      0.00        20\n",
      "          supot       0.00      0.00      0.00        20\n",
      "        t-shirt       0.00      0.00      0.00        20\n",
      "          tatlo       0.00      0.00      0.00        20\n",
      "          tawad       0.00      0.00      0.00        20\n",
      "        tinapay       0.00      0.00      0.00        20\n",
      "          tubig       0.00      0.00      0.00        20\n",
      "          utang       0.00      0.00      0.00        20\n",
      "           wala       0.02      1.00      0.03        20\n",
      "\n",
      "    avg / total       0.02      0.02      0.00      1200\n",
      "\n",
      "0.0175\n"
     ]
    },
    {
     "name": "stderr",
     "output_type": "stream",
     "text": [
      "C:\\Users\\user\\AppData\\Roaming\\Python\\Python36\\site-packages\\sklearn\\metrics\\classification.py:1135: UndefinedMetricWarning: Precision and F-score are ill-defined and being set to 0.0 in labels with no predicted samples.\n",
      "  'precision', 'predicted', average, warn_for)\n"
     ]
    }
   ],
   "source": [
    "Cs = [10]\n",
    "gammas = [0.1]\n",
    "degrees = [1]\n",
    "\n",
    "param_grid = {'C': Cs, 'gamma' : gammas, 'degree' : degrees}\n",
    "\n",
    "\n",
    "svclassifier = SVC(kernel='rbf')  \n",
    "\n",
    "clf = GridSearchCV(svclassifier, param_grid)\n",
    "clf.fit(X_train, y_train)  \n",
    "\n",
    "print(clf.best_params_)\n",
    "y_pred = clf.predict(X_test)\n",
    "print(confusion_matrix(y_test,y_pred))  \n",
    "print(classification_report(y_test,y_pred))  \n",
    "print(accuracy_score(y_test, y_pred))\n",
    "\n"
   ]
  },
  {
   "cell_type": "code",
   "execution_count": null,
   "metadata": {
    "collapsed": true
   },
   "outputs": [],
   "source": [
    "cf = confusion_matrix(y_test,y_pred)\n",
    "\n",
    "df = pd.DataFrame(cf)\n",
    "df.to_csv('crossval.csv', encoding='utf-8', index=False)"
   ]
  },
  {
   "cell_type": "code",
   "execution_count": 129,
   "metadata": {},
   "outputs": [
    {
     "data": {
      "text/plain": [
       "array([[12,  0,  0, ...,  0,  0,  0],\n",
       "       [ 0, 12,  0, ...,  0,  0,  0],\n",
       "       [ 0,  0,  8, ...,  0,  0,  0],\n",
       "       ..., \n",
       "       [ 0,  0,  0, ..., 13,  0,  0],\n",
       "       [ 0,  0,  0, ...,  0, 14,  0],\n",
       "       [ 0,  0,  0, ...,  0,  0, 13]], dtype=int64)"
      ]
     },
     "execution_count": 129,
     "metadata": {},
     "output_type": "execute_result"
    }
   ],
   "source": [
    "cf"
   ]
  },
  {
   "cell_type": "code",
   "execution_count": null,
   "metadata": {
    "collapsed": true
   },
   "outputs": [],
   "source": []
  }
 ],
 "metadata": {
  "kernelspec": {
   "display_name": "Python 3",
   "language": "python",
   "name": "python3"
  },
  "language_info": {
   "codemirror_mode": {
    "name": "ipython",
    "version": 3
   },
   "file_extension": ".py",
   "mimetype": "text/x-python",
   "name": "python",
   "nbconvert_exporter": "python",
   "pygments_lexer": "ipython3",
   "version": "3.6.3"
  }
 },
 "nbformat": 4,
 "nbformat_minor": 2
}
