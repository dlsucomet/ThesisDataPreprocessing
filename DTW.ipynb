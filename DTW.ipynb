{
 "cells": [
  {
   "cell_type": "code",
   "execution_count": null,
   "metadata": {},
   "outputs": [],
   "source": [
    "from dtw import dtw"
   ]
  },
  {
   "cell_type": "code",
   "execution_count": null,
   "metadata": {},
   "outputs": [],
   "source": [
    "import librosa\n",
    "\n",
    "mfccs = {}\n",
    "\n",
    "for i in range(len(labels)):\n",
    "    y, sr = librosa.load('sounds/{}.wav'.format(i))\n",
    "    mfcc = librosa.feature.mfcc(y, sr, n_mfcc=13)\n",
    "    mfccs[i] = mfcc.T"
   ]
  },
  {
   "cell_type": "code",
   "execution_count": null,
   "metadata": {
    "collapsed": true
   },
   "outputs": [],
   "source": [
    "from dtw import dtw\n",
    "\n",
    "# We use DP to speed up multiple tests\n",
    "D = ones((len(labels), len(labels))) * -1\n",
    "\n",
    "def cross_validation(train, test):\n",
    "    score = 0.0\n",
    "\n",
    "    for i in test:\n",
    "        x = mfccs[i]\n",
    "\n",
    "        dmin, jmin = inf, -1\n",
    "        for j in train:\n",
    "            y = mfccs[j]\n",
    "            \n",
    "            d = D[i, j]\n",
    "            if d == -1:\n",
    "                d, _, _, _ = dtw(x, y, dist=lambda x, y: norm(x - y, ord=1))\n",
    "                D[i, j] = d                \n",
    "\n",
    "            if d < dmin:\n",
    "                dmin = d\n",
    "                jmin = j\n",
    "\n",
    "        score += 1.0 if (labels[i] == labels[jmin]) else 0.0\n",
    "        \n",
    "    return score / len(test)"
   ]
  }
 ],
 "metadata": {
  "kernelspec": {
   "display_name": "Python 3",
   "language": "python",
   "name": "python3"
  },
  "language_info": {
   "codemirror_mode": {
    "name": "ipython",
    "version": 3
   },
   "file_extension": ".py",
   "mimetype": "text/x-python",
   "name": "python",
   "nbconvert_exporter": "python",
   "pygments_lexer": "ipython3",
   "version": "3.6.3"
  }
 },
 "nbformat": 4,
 "nbformat_minor": 2
}
