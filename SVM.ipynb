{
 "cells": [
  {
   "cell_type": "code",
   "execution_count": null,
   "metadata": {
    "collapsed": true
   },
   "outputs": [],
   "source": [
    "\n",
    "import pandas as pd\n",
    "import numpy as np\n",
    "import random\n",
    "import csv\n",
    "\n",
    "\n",
    "fileLocation = \"ConsolidatedData2.csv\"\n",
    "df = pd.read_csv(fileLocation)\n",
    "\n",
    "\n",
    "trainNames = []\n",
    "trainData = [] \n",
    "\n",
    "testNames = []\n",
    "testData = [] \n",
    "ctr = 0\n",
    "\n",
    "# sign = ['ate', 'baboy', 'blue', 'dalawa', 'isda', 'itlog', 'juice', 'kuya', 'large(shirt)', 'mahal', 'mantika', \n",
    "#          'medium(shirt)', 'nagbubukas', 'nagsasara', 'red', 'sari-sari-store', 'size', 'small(shirt)', 't-shirt', \n",
    "#          'tatlo', 'tawad', 'wala', 'mayroon', 'kayo', 'black', 'ano', 'niyo', 'kape', 'magkano', 'bibili', 'oras', 'tubig', 'maliit(thing)', \n",
    "#             'kulay', 'isa', 'dito', 'pagkain', 'saging', 'nito', 'kanin', 'ito', 'spaghetti', 'gusto', 'tinapay', 'manok', 'poloshirt', 'extra', 'kilo', 'salamat', 'binebenta', 'puwede', 'welcome', 'utang', 'gulay',\n",
    "#            'softdrinks', 'sorry', 'hello', 'malaki', 'supot(plastik)', 'shorts']\n",
    "\n",
    "sign = ['binebenta', 'extra', 'gulay', 'gusto', 'itlog', 'juice', 'kape', 'kilo',\n",
    "       'mahal', 'malaki', 'maliit', 'mayroon', 'nagbubukas', 'nagsasara',\n",
    "       'oras', 'pabili', 'poloshirt', 'puwede', 'saging', 'sari-sari store', 'shorts',\n",
    "       'size', 'spaghetti', 'supot', 'tawad', 'tinapay', 't-shirt', 'utang' 'wala']\n",
    "\n",
    "print(len(sign))\n",
    "\n",
    "for d in df['Class']:\n",
    "    if(ctr%5 == 0):\n",
    "        testNames.append(sign.index(d))\n",
    "    else:\n",
    "        trainNames.append(sign.index(d))\n",
    "    ctr+=1\n",
    "\n",
    "print(\"Test Names: \", testNames)\n",
    "print(\"Test Names: \", len(testNames))\n",
    "print(\"Train Names: \", trainNames)\n",
    "print(\"train Names: \", len(trainNames))\n",
    "\n",
    "df = df.drop('Class', axis =1)\n",
    "\n",
    "features = []\n",
    "ctr = 0\n",
    "\n",
    "for i in range(0, df.shape[0]):\n",
    "    if(ctr%5 == 0):\n",
    "        testData.append(df.iloc[i].tolist())\n",
    "    else:\n",
    "        trainData.append(df.iloc[i].tolist())\n",
    "    ctr+=1\n",
    "\n",
    "# [[float(y) for y in x] for x in trainData]\n",
    "# [[float(y) for y in x] for x in testData]\n",
    "    \n",
    "# formulate as libsvm problem\n",
    "problem = svm_problem(trainNames, trainData)\n",
    "\n",
    "param=svm_parameter(\"-q\")\n",
    "\n",
    "param.kernel_type=POLY\n",
    "\n",
    "model = svm_train(problem,param)\n",
    "\n",
    "pred_lbl, pred_acc, pred_val = svm_predict(testNames,testData,model)\n",
    "\n",
    "# print(len(trainNames))\n",
    "# print(len(testNames))\n",
    "\n",
    "# train=df.sample(frac=0.8,random_state=200)\n",
    "# test=df.drop(train.index)\n",
    "\n",
    "# print(len(train))\n",
    "# print(len(test))\n",
    "\n",
    "\n",
    "\n",
    "# train['left Mav of Gyro z']\n"
   ]
  },
  {
   "cell_type": "code",
   "execution_count": 67,
   "metadata": {},
   "outputs": [
    {
     "data": {
      "text/plain": [
       "GridSearchCV(cv=None, error_score='raise',\n",
       "       estimator=SVC(C=1.0, cache_size=200, class_weight=None, coef0=0.0,\n",
       "  decision_function_shape='ovr', degree=3, gamma='auto', kernel='linear',\n",
       "  max_iter=-1, probability=False, random_state=None, shrinking=True,\n",
       "  tol=0.001, verbose=False),\n",
       "       fit_params=None, iid=True, n_jobs=1,\n",
       "       param_grid={'C': [0.001, 0.01, 0.1, 1, 10], 'gamma': [0.001, 0.01, 0.1, 1], 'degree': [1, 2, 3]},\n",
       "       pre_dispatch='2*n_jobs', refit=True, return_train_score='warn',\n",
       "       scoring=None, verbose=0)"
      ]
     },
     "execution_count": 67,
     "metadata": {},
     "output_type": "execute_result"
    }
   ],
   "source": [
    "import pandas as pd\n",
    "import numpy as np\n",
    "import random\n",
    "import csv\n",
    "from sklearn.svm import SVC, LinearSVC\n",
    "from sklearn.model_selection import train_test_split, GridSearchCV\n",
    "from sklearn.metrics import classification_report, confusion_matrix, accuracy_score\n",
    "\n",
    "\n",
    "fileLocation = \"ConsolidatedData-Normalized-Combined(Trimmed).csv\"\n",
    "df = pd.read_csv(fileLocation)\n",
    "\n",
    "data = df.drop('Class', axis=1)  \n",
    "classes = df['Class']\n",
    "\n",
    "X_train, X_test, y_train, y_test = train_test_split(data, classes, test_size = 0.20)  \n",
    "\n",
    "Cs = [0.001, 0.01, 0.1, 1, 10]\n",
    "gammas = [0.001, 0.01, 0.1, 1]\n",
    "degrees = [1, 2, 3]\n",
    "\n",
    "param_grid = {'C': Cs, 'gamma' : gammas, 'degree' : degrees}\n",
    "\n",
    "\n",
    "svclassifier = SVC(kernel='linear')  \n",
    "clf = GridSearchCV(svclassifier, param_grid)\n",
    "clf.fit(X_train, y_train)  \n",
    "\n",
    "# y_pred = svclassifier.predict(X_test)  \n",
    "\n",
    "# print(confusion_matrix(y_test,y_pred))  \n",
    "# print(classification_report(y_test,y_pred))  \n",
    "# print(accuracy_score(y_test, y_pred))\n",
    "\n"
   ]
  },
  {
   "cell_type": "code",
   "execution_count": 68,
   "metadata": {},
   "outputs": [
    {
     "data": {
      "text/plain": [
       "SVC(C=1.0, cache_size=200, class_weight=None, coef0=0.0,\n",
       "  decision_function_shape='ovr', degree=3, gamma='auto', kernel='linear',\n",
       "  max_iter=-1, probability=False, random_state=None, shrinking=True,\n",
       "  tol=0.001, verbose=False)"
      ]
     },
     "execution_count": 68,
     "metadata": {},
     "output_type": "execute_result"
    }
   ],
   "source": [
    "svclassifier"
   ]
  },
  {
   "cell_type": "code",
   "execution_count": 69,
   "metadata": {},
   "outputs": [],
   "source": [
    "\n",
    "# # Feature Extraction with PCA\n",
    "# import numpy\n",
    "# from pandas import read_csv\n",
    "# from sklearn.decomposition import PCA\n",
    "# # load data\n",
    "# names = ['preg', 'plas', 'pres', 'skin', 'test', 'mass', 'pedi', 'age', 'class']\n",
    "# dataframe = read_csv(url, names=names)\n",
    "# array = dataframe.values\n",
    "# X = array[:,0:8]\n",
    "# Y = array[:,8]\n",
    "# # feature extraction\n",
    "# pca = PCA(n_components=3)\n",
    "# fit = pca.fit(X)\n",
    "# # summarize components\n",
    "# print(\"Explained Variance: \", fit.explained_variance_ratio_) \n",
    "# print(fit.components_)"
   ]
  },
  {
   "cell_type": "code",
   "execution_count": 70,
   "metadata": {},
   "outputs": [
    {
     "data": {
      "text/plain": [
       "{'C': 1, 'degree': 1, 'gamma': 0.001}"
      ]
     },
     "execution_count": 70,
     "metadata": {},
     "output_type": "execute_result"
    }
   ],
   "source": [
    "clf.best_params_"
   ]
  },
  {
   "cell_type": "code",
   "execution_count": 71,
   "metadata": {},
   "outputs": [
    {
     "name": "stdout",
     "output_type": "stream",
     "text": [
      "[[ 9  1  0 ...,  0  0  0]\n",
      " [ 0  8  1 ...,  0  0  0]\n",
      " [ 0  0  5 ...,  0  0  0]\n",
      " ..., \n",
      " [ 0  0  0 ...,  8  0  0]\n",
      " [ 0  0  0 ...,  0 21  1]\n",
      " [ 0  0  0 ...,  0  0 14]]\n",
      "                 precision    recall  f1-score   support\n",
      "\n",
      "            ano       0.56      0.45      0.50        20\n",
      "           asul       0.50      0.47      0.48        17\n",
      "            ate       0.28      0.25      0.26        20\n",
      "          baboy       0.90      0.82      0.86        22\n",
      "      binebenta       0.60      0.50      0.55        24\n",
      "         dalawa       0.19      0.44      0.27         9\n",
      "           dito       0.11      0.12      0.12        16\n",
      "          extra       0.67      0.67      0.67        18\n",
      "          gulay       0.81      0.77      0.79        22\n",
      "          gusto       0.73      0.80      0.76        20\n",
      "          hello       0.67      0.33      0.44        18\n",
      "            isa       0.60      0.50      0.55        18\n",
      "           isda       0.50      0.53      0.51        17\n",
      "           itim       0.52      0.81      0.63        16\n",
      "          itlog       0.57      0.63      0.60        19\n",
      "            ito       0.27      0.27      0.27        15\n",
      "          juice       0.50      0.52      0.51        21\n",
      "          kanin       0.28      0.26      0.27        19\n",
      "           kape       0.50      0.71      0.59        17\n",
      "           kayo       0.46      0.46      0.46        13\n",
      "           kilo       0.93      0.82      0.87        17\n",
      "             ko       0.54      0.41      0.47        17\n",
      "          kulay       0.18      0.13      0.15        15\n",
      "           kuya       0.35      0.47      0.40        17\n",
      "  large (shirt)       0.29      0.33      0.31        15\n",
      "        magkano       0.33      0.17      0.22        12\n",
      "          mahal       0.73      0.46      0.56        24\n",
      "         malaki       0.38      0.62      0.48        16\n",
      "         maliit       0.32      0.44      0.37        18\n",
      "          manok       0.50      0.40      0.44        15\n",
      "        mantika       0.50      0.65      0.56        17\n",
      "        mayroon       0.63      0.92      0.75        13\n",
      " medium (shirt)       0.35      0.47      0.40        15\n",
      "     nagbubukas       0.39      0.44      0.41        16\n",
      "      nagsasara       0.67      0.64      0.65        22\n",
      "           nito       0.23      0.14      0.17        22\n",
      "           niyo       0.43      0.47      0.45        19\n",
      "           oras       0.41      0.57      0.48        21\n",
      "         pabili       0.73      0.58      0.65        19\n",
      "        pagkain       0.24      0.29      0.26        21\n",
      "      poloshirt       0.93      0.93      0.93        14\n",
      "           pula       0.18      0.22      0.20         9\n",
      "         puwede       0.61      0.68      0.64        28\n",
      "         saging       0.93      0.72      0.81        18\n",
      "        salamat       0.41      0.45      0.43        20\n",
      "sari-sari store       0.40      0.33      0.36        18\n",
      "         shorts       0.50      0.79      0.61        14\n",
      "           size       0.54      0.58      0.56        24\n",
      "  small (shirt)       0.47      0.45      0.46        20\n",
      "     softdrinks       0.53      0.59      0.56        17\n",
      "          sorry       0.44      0.47      0.45        15\n",
      "      spaghetti       0.92      0.86      0.89        14\n",
      "          supot       0.95      0.72      0.82        25\n",
      "        t-shirt       0.92      0.88      0.90        26\n",
      "          tatlo       0.09      0.08      0.08        13\n",
      "          tawad       0.44      0.29      0.35        24\n",
      "        tinapay       1.00      0.50      0.67        20\n",
      "          tubig       0.73      0.36      0.48        22\n",
      "          utang       0.66      0.72      0.69        29\n",
      "           wala       0.56      0.56      0.56        25\n",
      "\n",
      "    avg / total       0.55      0.53      0.53      1107\n",
      "\n",
      "0.525745257453\n"
     ]
    }
   ],
   "source": [
    "y_pred = clf.predict(X_test)\n",
    "print(confusion_matrix(y_test,y_pred))  \n",
    "print(classification_report(y_test,y_pred))  \n",
    "print(accuracy_score(y_test, y_pred))"
   ]
  },
  {
   "cell_type": "code",
   "execution_count": null,
   "metadata": {
    "collapsed": true
   },
   "outputs": [],
   "source": []
  }
 ],
 "metadata": {
  "kernelspec": {
   "display_name": "Python 3",
   "language": "python",
   "name": "python3"
  },
  "language_info": {
   "codemirror_mode": {
    "name": "ipython",
    "version": 3
   },
   "file_extension": ".py",
   "mimetype": "text/x-python",
   "name": "python",
   "nbconvert_exporter": "python",
   "pygments_lexer": "ipython3",
   "version": "3.6.3"
  }
 },
 "nbformat": 4,
 "nbformat_minor": 2
}
