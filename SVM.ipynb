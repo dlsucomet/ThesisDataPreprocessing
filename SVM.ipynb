{
 "cells": [
  {
   "cell_type": "code",
   "execution_count": 1,
   "metadata": {},
   "outputs": [
    {
     "name": "stdout",
     "output_type": "stream",
     "text": [
      "Accuracy = 13.6364% (27/198) (classification)\n"
     ]
    }
   ],
   "source": [
    "from svmutil import *\n",
    "import pandas as pd\n",
    "import numpy as np\n",
    "import random\n",
    "import csv\n",
    "\n",
    "\n",
    "fileLocation = \"C://Users/darre/Desktop/ConsolidatedData2.csv\"\n",
    "df = pd.read_csv(fileLocation)\n",
    "\n",
    "\n",
    "trainNames = []\n",
    "trainData = [] \n",
    "\n",
    "testNames = []\n",
    "testData = [] \n",
    "ctr = 0\n",
    "\n",
    "sign = ['ate', 'baboy', 'blue', 'dalawa', 'isda', 'itlog', 'juice', 'kuya', 'large(shirt)', 'mahal', 'mantika', \n",
    "         'medium(shirt)', 'nagbubukas', 'nagsasara', 'red', 'sari-sari-store', 'size', 'small(shirt)', 't-shirt', \n",
    "         'tatlo', 'tawad', 'wala']\n",
    "\n",
    "\n",
    "for d in df['Class']:\n",
    "    if(ctr%5 == 0):\n",
    "        testNames.append(sign.index(d))\n",
    "    else:\n",
    "        trainNames.append(sign.index(d))\n",
    "    ctr+=1\n",
    "\n",
    "    \n",
    "df = df.drop('Class', axis =1)\n",
    "\n",
    "features = []\n",
    "ctr = 0\n",
    "\n",
    "for i in range(0, df.shape[0]):\n",
    "    if(ctr%5 == 0):\n",
    "        testData.append(df.iloc[i].tolist())\n",
    "    else:\n",
    "        trainData.append(df.iloc[i].tolist())\n",
    "    ctr+=1\n",
    "\n",
    "# [[float(y) for y in x] for x in trainData]\n",
    "# [[float(y) for y in x] for x in testData]\n",
    "    \n",
    "# formulate as libsvm problem\n",
    "problem = svm_problem(trainNames, trainData)\n",
    "\n",
    "param=svm_parameter(\"-q\")\n",
    "\n",
    "param.kernel_type=POLY\n",
    "\n",
    "model = svm_train(problem,param)\n",
    "\n",
    "pred_lbl, pred_acc, pred_val = svm_predict(testNames,testData,model)\n",
    "\n",
    "# print(len(trainNames))\n",
    "# print(len(testNames))\n",
    "\n",
    "# train=df.sample(frac=0.8,random_state=200)\n",
    "# test=df.drop(train.index)\n",
    "\n",
    "# print(len(train))\n",
    "# print(len(test))\n",
    "\n",
    "\n",
    "\n",
    "# train['left Mav of Gyro z']\n"
   ]
  },
  {
   "cell_type": "code",
   "execution_count": null,
   "metadata": {
    "collapsed": true
   },
   "outputs": [],
   "source": []
  },
  {
   "cell_type": "code",
   "execution_count": null,
   "metadata": {
    "collapsed": true
   },
   "outputs": [],
   "source": []
  }
 ],
 "metadata": {
  "kernelspec": {
   "display_name": "Python 3",
   "language": "python",
   "name": "python3"
  },
  "language_info": {
   "codemirror_mode": {
    "name": "ipython",
    "version": 3
   },
   "file_extension": ".py",
   "mimetype": "text/x-python",
   "name": "python",
   "nbconvert_exporter": "python",
   "pygments_lexer": "ipython3",
   "version": "3.6.3"
  }
 },
 "nbformat": 4,
 "nbformat_minor": 2
}
