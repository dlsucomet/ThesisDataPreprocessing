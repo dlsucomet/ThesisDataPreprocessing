{
 "cells": [
  {
   "cell_type": "code",
   "execution_count": 5,
   "metadata": {
    "scrolled": true
   },
   "outputs": [
    {
     "name": "stdout",
     "output_type": "stream",
     "text": [
      "31\n",
      "Accuracy = 50.4744% (266/527) (classification)\n"
     ]
    }
   ],
   "source": [
    "from svmutil import * \n",
    "import pandas as pd\n",
    "import numpy as np\n",
    "import random\n",
    "import csv\n",
    "\n",
    "\n",
    "fileLocation = \"../../ConsolidatedData-Normalized(Trimmed).csv\"\n",
    "df = pd.read_csv(fileLocation)\n",
    "\n",
    "\n",
    "trainNames = []\n",
    "trainData = [] \n",
    "\n",
    "testNames = []\n",
    "testData = [] \n",
    "ctr = 0\n",
    "\n",
    "# sign = ['ate', 'baboy', 'blue', 'dalawa', 'isda', 'itlog', 'juice', 'kuya', 'large(shirt)', 'mahal', 'mantika', \n",
    "#          'medium(shirt)', 'nagbubukas', 'nagsasara', 'red', 'sari-sari-store', 'size', 'small(shirt)', 't-shirt', \n",
    "#          'tatlo', 'tawad', 'wala', 'mayroon', 'kayo', 'black', 'ano', 'niyo', 'kape', 'magkano', 'bibili', 'oras', 'tubig', 'maliit(thing)', \n",
    "#             'kulay', 'isa', 'dito', 'pagkain', 'saging', 'nito', 'kanin', 'ito', 'spaghetti', 'gusto', 'tinapay', 'manok', 'poloshirt', 'extra', 'kilo', 'salamat', 'binebenta', 'puwede', 'welcome', 'utang', 'gulay',\n",
    "#            'softdrinks', 'sorry', 'hello', 'malaki', 'supot(plastik)', 'shorts']\n",
    "\n",
    "sign = ['ano', 'asul', 'ate', 'baboy', 'dalawa', 'dito', \n",
    "        'hello', 'isa', 'isda', 'itim', 'ito', 'kanin',\n",
    "        'kayo', 'ko', 'kulay', 'kuya', 'large (shirt)', 'medium (shirt)',\n",
    "        'nito', 'niyo', 'pagkain', 'pula', 'salamat', 'small (shirt)',\n",
    "        'softdrinks', 'sorry', 'tatlo', 'tubig', 'magkano', 'manok', 'mantika']\n",
    "\n",
    "print(len(sign))\n",
    "\n",
    "for d in df['Class']:\n",
    "    if(ctr%5 == 0):\n",
    "        testNames.append(sign.index(d))\n",
    "    else:\n",
    "        trainNames.append(sign.index(d))\n",
    "    ctr+=1\n",
    "\n",
    "\n",
    "    \n",
    "df = df.drop('Class', axis =1)\n",
    "\n",
    "features = []\n",
    "ctr = 0\n",
    "\n",
    "for i in range(0, df.shape[0]):\n",
    "    if(ctr%5 == 0):\n",
    "        testData.append(df.iloc[i].tolist())\n",
    "    else:\n",
    "        trainData.append(df.iloc[i].tolist())\n",
    "    ctr+=1\n",
    "\n",
    "# [[float(y) for y in x] for x in trainData]\n",
    "# [[float(y) for y in x] for x in testData]\n",
    "    \n",
    "# formulate as libsvm problem\n",
    "problem = svm_problem(trainNames, trainData)\n",
    "\n",
    "param=svm_parameter(\"-q\")\n",
    "\n",
    "param.kernel_type=LINEAR\n",
    "\n",
    "\n",
    "model = svm_train(problem,param)\n",
    "\n",
    "pred_lbl, pred_acc, pred_val = svm_predict(testNames,testData,model)\n",
    "\n",
    "# print(len(trainNames))\n",
    "# print(len(testNames))\n",
    "\n",
    "# train=df.sample(frac=0.8,random_state=200)\n",
    "# test=df.drop(train.index)\n",
    "\n",
    "\n",
    "\n",
    "# print(len(train))\n",
    "# print(len(test))\n",
    "\n",
    "\n",
    "\n",
    "# train['left Mav of Gyro z']\n"
   ]
  },
  {
   "cell_type": "code",
   "execution_count": null,
   "metadata": {
    "collapsed": true
   },
   "outputs": [],
   "source": [
    "# from sklearn import svm\n",
    "# from sklearn import datasets\n",
    "\n",
    "# X = [[0, 0], [1, 1]]\n",
    "# Y = [0, 1]\n",
    "\n",
    "# clf = svm.SVC(kernel='poly')\n",
    "# clf.fit(X, Y) \n",
    "# iris = datasets.load_iris()\n",
    "# X, y = iris.data, iris.target\n",
    "\n",
    "# print(X)\n",
    "\n"
   ]
  },
  {
   "cell_type": "code",
   "execution_count": null,
   "metadata": {
    "collapsed": true
   },
   "outputs": [],
   "source": []
  }
 ],
 "metadata": {
  "kernelspec": {
   "display_name": "Python 3",
   "language": "python",
   "name": "python3"
  },
  "language_info": {
   "codemirror_mode": {
    "name": "ipython",
    "version": 3
   },
   "file_extension": ".py",
   "mimetype": "text/x-python",
   "name": "python",
   "nbconvert_exporter": "python",
   "pygments_lexer": "ipython3",
   "version": "3.6.3"
  }
 },
 "nbformat": 4,
 "nbformat_minor": 2
}
