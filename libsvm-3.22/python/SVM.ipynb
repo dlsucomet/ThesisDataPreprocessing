{
 "cells": [
  {
   "cell_type": "code",
   "execution_count": 2,
   "metadata": {
    "scrolled": true
   },
   "outputs": [
    {
     "name": "stdout",
     "output_type": "stream",
     "text": [
      "29\n"
     ]
    },
    {
     "ename": "ValueError",
     "evalue": "'manok' is not in list",
     "output_type": "error",
     "traceback": [
      "\u001b[1;31m---------------------------------------------------------------------------\u001b[0m",
      "\u001b[1;31mValueError\u001b[0m                                Traceback (most recent call last)",
      "\u001b[1;32m<ipython-input-2-a05a849382e8>\u001b[0m in \u001b[0;36m<module>\u001b[1;34m()\u001b[0m\n\u001b[0;32m     33\u001b[0m \u001b[1;32mfor\u001b[0m \u001b[0md\u001b[0m \u001b[1;32min\u001b[0m \u001b[0mdf\u001b[0m\u001b[1;33m[\u001b[0m\u001b[1;34m'Class'\u001b[0m\u001b[1;33m]\u001b[0m\u001b[1;33m:\u001b[0m\u001b[1;33m\u001b[0m\u001b[0m\n\u001b[0;32m     34\u001b[0m     \u001b[1;32mif\u001b[0m\u001b[1;33m(\u001b[0m\u001b[0mctr\u001b[0m\u001b[1;33m%\u001b[0m\u001b[1;36m5\u001b[0m \u001b[1;33m==\u001b[0m \u001b[1;36m0\u001b[0m\u001b[1;33m)\u001b[0m\u001b[1;33m:\u001b[0m\u001b[1;33m\u001b[0m\u001b[0m\n\u001b[1;32m---> 35\u001b[1;33m         \u001b[0mtestNames\u001b[0m\u001b[1;33m.\u001b[0m\u001b[0mappend\u001b[0m\u001b[1;33m(\u001b[0m\u001b[0msign\u001b[0m\u001b[1;33m.\u001b[0m\u001b[0mindex\u001b[0m\u001b[1;33m(\u001b[0m\u001b[0md\u001b[0m\u001b[1;33m)\u001b[0m\u001b[1;33m)\u001b[0m\u001b[1;33m\u001b[0m\u001b[0m\n\u001b[0m\u001b[0;32m     36\u001b[0m     \u001b[1;32melse\u001b[0m\u001b[1;33m:\u001b[0m\u001b[1;33m\u001b[0m\u001b[0m\n\u001b[0;32m     37\u001b[0m         \u001b[0mtrainNames\u001b[0m\u001b[1;33m.\u001b[0m\u001b[0mappend\u001b[0m\u001b[1;33m(\u001b[0m\u001b[0msign\u001b[0m\u001b[1;33m.\u001b[0m\u001b[0mindex\u001b[0m\u001b[1;33m(\u001b[0m\u001b[0md\u001b[0m\u001b[1;33m)\u001b[0m\u001b[1;33m)\u001b[0m\u001b[1;33m\u001b[0m\u001b[0m\n",
      "\u001b[1;31mValueError\u001b[0m: 'manok' is not in list"
     ]
    }
   ],
   "source": [
    "from svmutil import * \n",
    "import pandas as pd\n",
    "import numpy as np\n",
    "import random\n",
    "import csv\n",
    "\n",
    "\n",
    "fileLocation = \"../../ConsolidatedData-Normalized.csv\"\n",
    "df = pd.read_csv(fileLocation)\n",
    "\n",
    "\n",
    "trainNames = []\n",
    "trainData = [] \n",
    "\n",
    "testNames = []\n",
    "testData = [] \n",
    "ctr = 0\n",
    "\n",
    "# sign = ['ate', 'baboy', 'blue', 'dalawa', 'isda', 'itlog', 'juice', 'kuya', 'large(shirt)', 'mahal', 'mantika', \n",
    "#          'medium(shirt)', 'nagbubukas', 'nagsasara', 'red', 'sari-sari-store', 'size', 'small(shirt)', 't-shirt', \n",
    "#          'tatlo', 'tawad', 'wala', 'mayroon', 'kayo', 'black', 'ano', 'niyo', 'kape', 'magkano', 'bibili', 'oras', 'tubig', 'maliit(thing)', \n",
    "#             'kulay', 'isa', 'dito', 'pagkain', 'saging', 'nito', 'kanin', 'ito', 'spaghetti', 'gusto', 'tinapay', 'manok', 'poloshirt', 'extra', 'kilo', 'salamat', 'binebenta', 'puwede', 'welcome', 'utang', 'gulay',\n",
    "#            'softdrinks', 'sorry', 'hello', 'malaki', 'supot(plastik)', 'shorts']\n",
    "\n",
    "sign = ['ano', 'asul', 'ate', 'baboy', 'dalawa', 'dito', \n",
    "        'hello', 'isa', 'isda', 'itim', 'ito', 'kanin',\n",
    "        'kayo', 'ko', 'kulay', 'kuya', 'large (shirt)', 'medium (shirt)',\n",
    "        'nito', 'niyo', 'pagkain', 'pula', 'salamat', 'small (shirt)',\n",
    "        'softdrinks', 'sorry', 'tatlo', 'tubig', 'magkano']\n",
    "\n",
    "print(len(sign))\n",
    "\n",
    "for d in df['Class']:\n",
    "    if(ctr%5 == 0):\n",
    "        testNames.append(sign.index(d))\n",
    "    else:\n",
    "        trainNames.append(sign.index(d))\n",
    "    ctr+=1\n",
    "\n",
    "\n",
    "    \n",
    "df = df.drop('Class', axis =1)\n",
    "\n",
    "features = []\n",
    "ctr = 0\n",
    "\n",
    "for i in range(0, df.shape[0]):\n",
    "    if(ctr%5 == 0):\n",
    "        testData.append(df.iloc[i].tolist())\n",
    "    else:\n",
    "        trainData.append(df.iloc[i].tolist())\n",
    "    ctr+=1\n",
    "\n",
    "# [[float(y) for y in x] for x in trainData]\n",
    "# [[float(y) for y in x] for x in testData]\n",
    "    \n",
    "# formulate as libsvm problem\n",
    "problem = svm_problem(trainNames, trainData)\n",
    "\n",
    "param=svm_parameter(\"-q\")\n",
    "\n",
    "param.kernel_type=LINEAR\n",
    "\n",
    "\n",
    "model = svm_train(problem,param)\n",
    "\n",
    "pred_lbl, pred_acc, pred_val = svm_predict(testNames,testData,model)\n",
    "\n",
    "# print(len(trainNames))\n",
    "# print(len(testNames))\n",
    "\n",
    "# train=df.sample(frac=0.8,random_state=200)\n",
    "# test=df.drop(train.index)\n",
    "\n",
    "\n",
    "\n",
    "# print(len(train))\n",
    "# print(len(test))\n",
    "\n",
    "\n",
    "\n",
    "# train['left Mav of Gyro z']\n"
   ]
  },
  {
   "cell_type": "code",
   "execution_count": null,
   "metadata": {
    "collapsed": true
   },
   "outputs": [],
   "source": [
    "# from sklearn import svm\n",
    "# from sklearn import datasets\n",
    "\n",
    "# X = [[0, 0], [1, 1]]\n",
    "# Y = [0, 1]\n",
    "\n",
    "# clf = svm.SVC(kernel='poly')\n",
    "# clf.fit(X, Y) \n",
    "# iris = datasets.load_iris()\n",
    "# X, y = iris.data, iris.target\n",
    "\n",
    "# print(X)\n",
    "\n"
   ]
  },
  {
   "cell_type": "code",
   "execution_count": null,
   "metadata": {
    "collapsed": true
   },
   "outputs": [],
   "source": []
  }
 ],
 "metadata": {
  "kernelspec": {
   "display_name": "Python 3",
   "language": "python",
   "name": "python3"
  },
  "language_info": {
   "codemirror_mode": {
    "name": "ipython",
    "version": 3
   },
   "file_extension": ".py",
   "mimetype": "text/x-python",
   "name": "python",
   "nbconvert_exporter": "python",
   "pygments_lexer": "ipython3",
   "version": "3.6.3"
  }
 },
 "nbformat": 4,
 "nbformat_minor": 2
}
