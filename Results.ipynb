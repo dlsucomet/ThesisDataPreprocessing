{
 "cells": [
  {
   "cell_type": "code",
   "execution_count": 17,
   "metadata": {},
   "outputs": [
    {
     "name": "stderr",
     "output_type": "stream",
     "text": [
      "C:\\Users\\darre\\Anaconda3\\lib\\site-packages\\sklearn\\utils\\validation.py:578: DataConversionWarning: A column-vector y was passed when a 1d array was expected. Please change the shape of y to (n_samples, ), for example using ravel().\n",
      "  y = column_or_1d(y, warn=True)\n"
     ]
    },
    {
     "name": "stdout",
     "output_type": "stream",
     "text": [
      "[[13  0  0 ...,  1  0  0]\n",
      " [ 0 14  0 ...,  0  0  0]\n",
      " [ 0  0 10 ...,  0  0  0]\n",
      " ..., \n",
      " [ 1  0  0 ..., 11  0  0]\n",
      " [ 0  0  0 ...,  0 15  0]\n",
      " [ 0  0  0 ...,  0  0 16]]\n",
      " \n",
      "0.685\n"
     ]
    }
   ],
   "source": [
    "import pandas as pd\n",
    "import numpy as np\n",
    "import random\n",
    "import csv\n",
    "from sklearn.svm import SVC, LinearSVC\n",
    "from sklearn.model_selection import train_test_split, GridSearchCV, RepeatedKFold, cross_val_score\n",
    "from sklearn.metrics import classification_report, confusion_matrix, accuracy_score\n",
    "\n",
    "fileLocation = \"WithEmgFilter.csv\"\n",
    "df = pd.read_csv(fileLocation)\n",
    "words = []\n",
    "\n",
    "for d in df.Class:\n",
    "    if d not in words:\n",
    "        words.append(d)\n",
    "        \n",
    "\n",
    "classes = df['Class']\n",
    "data = df.drop('Class', axis=1)  \n",
    "X_train = []\n",
    "X_test = []\n",
    "y_train = []\n",
    "y_test = []\n",
    "\n",
    "for index in range(0, len(data)):\n",
    "    if index % 5 == 0:\n",
    "        X_test.append(data.loc[index].values)\n",
    "        y_test.append(classes.loc[index])\n",
    "    else:\n",
    "        X_train.append(data.loc[index].values)\n",
    "        y_train.append(classes.loc[index])\n",
    "        \n",
    "X_test = pd.DataFrame(X_test, columns = data.columns.values)\n",
    "y_test = pd.DataFrame(y_test, columns = ['Class'])\n",
    "X_train = pd.DataFrame(X_train, columns = data.columns.values)\n",
    "y_train = pd.DataFrame(y_train, columns = ['Class'])\n",
    "\n",
    "    \n",
    "# X_train, X_test, y_train, y_test = train_test_split(data, classes, test_size = 0.20, random_state=1)\n",
    "\n",
    "\n",
    "clf = SVC(kernel = \"linear\")\n",
    "clf.fit(X_train, y_train)  \n",
    "y_pred = clf.predict(X_test) \n",
    "    \n",
    "# for i in range(0, len(X_test)):\n",
    "#     word = df.iloc[[X_test.iloc[[i]].index.values[0]]].Class.values[0]\n",
    "\n",
    "#     y_pred = clf.predict(X_test.iloc[[i]])  \n",
    "    \n",
    "#     print(word + \" : \" + y_pred[0])\n",
    "#     print(word == y_pred[0])\n",
    "   \n",
    "print(confusion_matrix(y_test,y_pred))  \n",
    "print(classification_report(y_test,y_pred)[0])  \n",
    "print(accuracy_score(y_test, y_pred))"
   ]
  },
  {
   "cell_type": "code",
   "execution_count": null,
   "metadata": {},
   "outputs": [],
   "source": [
    "import matplotlib.pyplot as plt\n",
    "plt.plot([1,2,3,4], [1,4,9,16], 'ro')\n",
    "plt.axis([0, 6, 0, 20])\n",
    "plt.show()"
   ]
  },
  {
   "cell_type": "code",
   "execution_count": null,
   "metadata": {},
   "outputs": [],
   "source": [
    "print(wordCount)"
   ]
  },
  {
   "cell_type": "code",
   "execution_count": null,
   "metadata": {
    "collapsed": true
   },
   "outputs": [],
   "source": []
  }
 ],
 "metadata": {
  "kernelspec": {
   "display_name": "Python 3",
   "language": "python",
   "name": "python3"
  },
  "language_info": {
   "codemirror_mode": {
    "name": "ipython",
    "version": 3
   },
   "file_extension": ".py",
   "mimetype": "text/x-python",
   "name": "python",
   "nbconvert_exporter": "python",
   "pygments_lexer": "ipython3",
   "version": "3.6.3"
  }
 },
 "nbformat": 4,
 "nbformat_minor": 2
}
